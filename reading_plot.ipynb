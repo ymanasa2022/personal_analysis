{
 "cells": [
  {
   "cell_type": "code",
   "execution_count": 83,
   "metadata": {},
   "outputs": [],
   "source": [
    "import gspread\n",
    "import seaborn as sns\n",
    "import matplotlib.pyplot as plt\n",
    "import datetime as dt\n",
    "from datetime import datetime\n",
    "import pandas as pd\n",
    "import pandas as pd \n",
    "from collections import Counter\n",
    "import calmap\n",
    "\n",
    "# https://builtin.com/data-science/github-contribution-plot"
   ]
  },
  {
   "cell_type": "code",
   "execution_count": 40,
   "metadata": {},
   "outputs": [
    {
     "data": {
      "text/plain": [
       "gspread.client.Client"
      ]
     },
     "execution_count": 40,
     "metadata": {},
     "output_type": "execute_result"
    }
   ],
   "source": [
    "# creating gspread.client.Client object to access the sheet \n",
    "gc = gspread.service_account(filename='sheet_auth.json')\n",
    "type(gc)"
   ]
  },
  {
   "cell_type": "code",
   "execution_count": 86,
   "metadata": {},
   "outputs": [
    {
     "data": {
      "text/plain": [
       "<Worksheet 'drug discovery' id:0>"
      ]
     },
     "execution_count": 86,
     "metadata": {},
     "output_type": "execute_result"
    }
   ],
   "source": [
    "# opening google sheets \n",
    "wks = gc.open('reading list').sheet1\n",
    "wks"
   ]
  },
  {
   "cell_type": "code",
   "execution_count": 90,
   "metadata": {},
   "outputs": [
    {
     "data": {
      "text/html": [
       "<div>\n",
       "<style scoped>\n",
       "    .dataframe tbody tr th:only-of-type {\n",
       "        vertical-align: middle;\n",
       "    }\n",
       "\n",
       "    .dataframe tbody tr th {\n",
       "        vertical-align: top;\n",
       "    }\n",
       "\n",
       "    .dataframe thead th {\n",
       "        text-align: right;\n",
       "    }\n",
       "</style>\n",
       "<table border=\"1\" class=\"dataframe\">\n",
       "  <thead>\n",
       "    <tr style=\"text-align: right;\">\n",
       "      <th></th>\n",
       "      <th>read_date</th>\n",
       "      <th>per_day</th>\n",
       "    </tr>\n",
       "  </thead>\n",
       "  <tbody>\n",
       "    <tr>\n",
       "      <th>0</th>\n",
       "      <td>2/5/24</td>\n",
       "      <td>1</td>\n",
       "    </tr>\n",
       "    <tr>\n",
       "      <th>1</th>\n",
       "      <td>2/6/24</td>\n",
       "      <td>1</td>\n",
       "    </tr>\n",
       "    <tr>\n",
       "      <th>2</th>\n",
       "      <td>2/16/24</td>\n",
       "      <td>1</td>\n",
       "    </tr>\n",
       "    <tr>\n",
       "      <th>3</th>\n",
       "      <td>2/12/24</td>\n",
       "      <td>2</td>\n",
       "    </tr>\n",
       "    <tr>\n",
       "      <th>5</th>\n",
       "      <td>2/17/24</td>\n",
       "      <td>2</td>\n",
       "    </tr>\n",
       "    <tr>\n",
       "      <th>7</th>\n",
       "      <td>2/22/24</td>\n",
       "      <td>4</td>\n",
       "    </tr>\n",
       "    <tr>\n",
       "      <th>8</th>\n",
       "      <td>2/23/24</td>\n",
       "      <td>1</td>\n",
       "    </tr>\n",
       "  </tbody>\n",
       "</table>\n",
       "</div>"
      ],
      "text/plain": [
       "  read_date  per_day\n",
       "0    2/5/24        1\n",
       "1    2/6/24        1\n",
       "2   2/16/24        1\n",
       "3   2/12/24        2\n",
       "5   2/17/24        2\n",
       "7   2/22/24        4\n",
       "8   2/23/24        1"
      ]
     },
     "execution_count": 90,
     "metadata": {},
     "output_type": "execute_result"
    }
   ],
   "source": [
    "raw_col = wks.col_values(1)\n",
    "df = pd.DataFrame(raw_col[1:], columns=[raw_col[0]])\n",
    "\n",
    "counts = df['read_date'].value_counts()\n",
    "df = df.drop_duplicates()\n",
    "df['per_day'] = df['read_date'].map(counts)\n",
    "df"
   ]
  },
  {
   "cell_type": "code",
   "execution_count": 91,
   "metadata": {},
   "outputs": [
    {
     "data": {
      "text/html": [
       "<div>\n",
       "<style scoped>\n",
       "    .dataframe tbody tr th:only-of-type {\n",
       "        vertical-align: middle;\n",
       "    }\n",
       "\n",
       "    .dataframe tbody tr th {\n",
       "        vertical-align: top;\n",
       "    }\n",
       "\n",
       "    .dataframe thead th {\n",
       "        text-align: right;\n",
       "    }\n",
       "</style>\n",
       "<table border=\"1\" class=\"dataframe\">\n",
       "  <thead>\n",
       "    <tr style=\"text-align: right;\">\n",
       "      <th></th>\n",
       "      <th>read_date</th>\n",
       "      <th>per_day</th>\n",
       "      <th>month</th>\n",
       "      <th>date</th>\n",
       "      <th>day</th>\n",
       "      <th>year</th>\n",
       "    </tr>\n",
       "  </thead>\n",
       "  <tbody>\n",
       "    <tr>\n",
       "      <th>0</th>\n",
       "      <td>2/5/24</td>\n",
       "      <td>1</td>\n",
       "      <td>February</td>\n",
       "      <td>5</td>\n",
       "      <td>Monday</td>\n",
       "      <td>2024</td>\n",
       "    </tr>\n",
       "    <tr>\n",
       "      <th>1</th>\n",
       "      <td>2/6/24</td>\n",
       "      <td>1</td>\n",
       "      <td>February</td>\n",
       "      <td>6</td>\n",
       "      <td>Tuesday</td>\n",
       "      <td>2024</td>\n",
       "    </tr>\n",
       "    <tr>\n",
       "      <th>2</th>\n",
       "      <td>2/16/24</td>\n",
       "      <td>1</td>\n",
       "      <td>February</td>\n",
       "      <td>16</td>\n",
       "      <td>Friday</td>\n",
       "      <td>2024</td>\n",
       "    </tr>\n",
       "    <tr>\n",
       "      <th>3</th>\n",
       "      <td>2/12/24</td>\n",
       "      <td>2</td>\n",
       "      <td>February</td>\n",
       "      <td>12</td>\n",
       "      <td>Monday</td>\n",
       "      <td>2024</td>\n",
       "    </tr>\n",
       "    <tr>\n",
       "      <th>5</th>\n",
       "      <td>2/17/24</td>\n",
       "      <td>2</td>\n",
       "      <td>February</td>\n",
       "      <td>17</td>\n",
       "      <td>Saturday</td>\n",
       "      <td>2024</td>\n",
       "    </tr>\n",
       "    <tr>\n",
       "      <th>7</th>\n",
       "      <td>2/22/24</td>\n",
       "      <td>4</td>\n",
       "      <td>February</td>\n",
       "      <td>22</td>\n",
       "      <td>Thursday</td>\n",
       "      <td>2024</td>\n",
       "    </tr>\n",
       "    <tr>\n",
       "      <th>8</th>\n",
       "      <td>2/23/24</td>\n",
       "      <td>1</td>\n",
       "      <td>February</td>\n",
       "      <td>23</td>\n",
       "      <td>Friday</td>\n",
       "      <td>2024</td>\n",
       "    </tr>\n",
       "  </tbody>\n",
       "</table>\n",
       "</div>"
      ],
      "text/plain": [
       "  read_date  per_day     month  date       day  year\n",
       "0    2/5/24        1  February     5    Monday  2024\n",
       "1    2/6/24        1  February     6   Tuesday  2024\n",
       "2   2/16/24        1  February    16    Friday  2024\n",
       "3   2/12/24        2  February    12    Monday  2024\n",
       "5   2/17/24        2  February    17  Saturday  2024\n",
       "7   2/22/24        4  February    22  Thursday  2024\n",
       "8   2/23/24        1  February    23    Friday  2024"
      ]
     },
     "execution_count": 91,
     "metadata": {},
     "output_type": "execute_result"
    }
   ],
   "source": [
    "def split_date(date_string):\n",
    "    ''' splits the month, day and year given a date as a string 'mm/dd/yy' '''\n",
    "    date_object = datetime.strptime(date_string, \"%m/%d/%y\")\n",
    "    day_of_week = date_object.strftime(\"%A\")\n",
    "    month = date_object.strftime('%B')\n",
    "    return month, date_object.day, day_of_week, date_object.year\n",
    "\n",
    "\n",
    "df[['month', 'date', 'day', 'year']] = df['read_date'].apply(lambda x: pd.Series(split_date(x)))\n",
    "\n",
    "df"
   ]
  },
  {
   "cell_type": "code",
   "execution_count": 92,
   "metadata": {},
   "outputs": [
    {
     "data": {
      "text/html": [
       "<div>\n",
       "<style scoped>\n",
       "    .dataframe tbody tr th:only-of-type {\n",
       "        vertical-align: middle;\n",
       "    }\n",
       "\n",
       "    .dataframe tbody tr th {\n",
       "        vertical-align: top;\n",
       "    }\n",
       "\n",
       "    .dataframe thead th {\n",
       "        text-align: right;\n",
       "    }\n",
       "</style>\n",
       "<table border=\"1\" class=\"dataframe\">\n",
       "  <thead>\n",
       "    <tr style=\"text-align: right;\">\n",
       "      <th></th>\n",
       "      <th>month</th>\n",
       "      <th>date</th>\n",
       "      <th>day</th>\n",
       "      <th>per_day</th>\n",
       "      <th>year</th>\n",
       "    </tr>\n",
       "  </thead>\n",
       "  <tbody>\n",
       "    <tr>\n",
       "      <th>0</th>\n",
       "      <td>February</td>\n",
       "      <td>5</td>\n",
       "      <td>Monday</td>\n",
       "      <td>1</td>\n",
       "      <td>2024</td>\n",
       "    </tr>\n",
       "    <tr>\n",
       "      <th>1</th>\n",
       "      <td>February</td>\n",
       "      <td>6</td>\n",
       "      <td>Tuesday</td>\n",
       "      <td>1</td>\n",
       "      <td>2024</td>\n",
       "    </tr>\n",
       "    <tr>\n",
       "      <th>2</th>\n",
       "      <td>February</td>\n",
       "      <td>16</td>\n",
       "      <td>Friday</td>\n",
       "      <td>1</td>\n",
       "      <td>2024</td>\n",
       "    </tr>\n",
       "    <tr>\n",
       "      <th>3</th>\n",
       "      <td>February</td>\n",
       "      <td>12</td>\n",
       "      <td>Monday</td>\n",
       "      <td>2</td>\n",
       "      <td>2024</td>\n",
       "    </tr>\n",
       "    <tr>\n",
       "      <th>5</th>\n",
       "      <td>February</td>\n",
       "      <td>17</td>\n",
       "      <td>Saturday</td>\n",
       "      <td>2</td>\n",
       "      <td>2024</td>\n",
       "    </tr>\n",
       "    <tr>\n",
       "      <th>7</th>\n",
       "      <td>February</td>\n",
       "      <td>22</td>\n",
       "      <td>Thursday</td>\n",
       "      <td>4</td>\n",
       "      <td>2024</td>\n",
       "    </tr>\n",
       "    <tr>\n",
       "      <th>8</th>\n",
       "      <td>February</td>\n",
       "      <td>23</td>\n",
       "      <td>Friday</td>\n",
       "      <td>1</td>\n",
       "      <td>2024</td>\n",
       "    </tr>\n",
       "  </tbody>\n",
       "</table>\n",
       "</div>"
      ],
      "text/plain": [
       "      month  date       day  per_day  year\n",
       "0  February     5    Monday        1  2024\n",
       "1  February     6   Tuesday        1  2024\n",
       "2  February    16    Friday        1  2024\n",
       "3  February    12    Monday        2  2024\n",
       "5  February    17  Saturday        2  2024\n",
       "7  February    22  Thursday        4  2024\n",
       "8  February    23    Friday        1  2024"
      ]
     },
     "execution_count": 92,
     "metadata": {},
     "output_type": "execute_result"
    }
   ],
   "source": [
    "df_new = df[['month', 'date', 'day', 'per_day', 'year']]\n",
    "df_new"
   ]
  },
  {
   "cell_type": "code",
   "execution_count": 93,
   "metadata": {},
   "outputs": [
    {
     "ename": "AttributeError",
     "evalue": "'numpy.int64' object has no attribute 'year'",
     "output_type": "error",
     "traceback": [
      "\u001b[0;31m---------------------------------------------------------------------------\u001b[0m",
      "\u001b[0;31mAttributeError\u001b[0m                            Traceback (most recent call last)",
      "Cell \u001b[0;32mIn[93], line 2\u001b[0m\n\u001b[1;32m      1\u001b[0m plt\u001b[39m.\u001b[39mfigure(figsize\u001b[39m=\u001b[39m(\u001b[39m20\u001b[39m,\u001b[39m10\u001b[39m))\n\u001b[0;32m----> 2\u001b[0m calmap\u001b[39m.\u001b[39;49myearplot(df[\u001b[39m'\u001b[39;49m\u001b[39mper_day\u001b[39;49m\u001b[39m'\u001b[39;49m], cmap\u001b[39m=\u001b[39;49m\u001b[39m'\u001b[39;49m\u001b[39mYlGn\u001b[39;49m\u001b[39m'\u001b[39;49m, fillcolor\u001b[39m=\u001b[39;49m\u001b[39m'\u001b[39;49m\u001b[39mlightgrey\u001b[39;49m\u001b[39m'\u001b[39;49m,daylabels\u001b[39m=\u001b[39;49m\u001b[39m'\u001b[39;49m\u001b[39mMTWTFSS\u001b[39;49m\u001b[39m'\u001b[39;49m,dayticks\u001b[39m=\u001b[39;49m[\u001b[39m0\u001b[39;49m, \u001b[39m2\u001b[39;49m, \u001b[39m4\u001b[39;49m, \u001b[39m6\u001b[39;49m],\n\u001b[1;32m      3\u001b[0m                linewidth\u001b[39m=\u001b[39;49m\u001b[39m2\u001b[39;49m)\n",
      "File \u001b[0;32m~/anaconda3/envs/gsheet/lib/python3.11/site-packages/calmap/__init__.py:143\u001b[0m, in \u001b[0;36myearplot\u001b[0;34m(data, year, how, vmin, vmax, cmap, fillcolor, linewidth, linecolor, daylabels, dayticks, monthlabels, monthticks, monthly_border, ax, **kwargs)\u001b[0m\n\u001b[1;32m     52\u001b[0m \u001b[39m\u001b[39m\u001b[39m\"\"\"\u001b[39;00m\n\u001b[1;32m     53\u001b[0m \u001b[39mPlot one year from a timeseries as a calendar heatmap.\u001b[39;00m\n\u001b[1;32m     54\u001b[0m \n\u001b[0;32m   (...)\u001b[0m\n\u001b[1;32m    140\u001b[0m \n\u001b[1;32m    141\u001b[0m \u001b[39m\"\"\"\u001b[39;00m\n\u001b[1;32m    142\u001b[0m \u001b[39mif\u001b[39;00m year \u001b[39mis\u001b[39;00m \u001b[39mNone\u001b[39;00m:\n\u001b[0;32m--> 143\u001b[0m     year \u001b[39m=\u001b[39m data\u001b[39m.\u001b[39;49mindex\u001b[39m.\u001b[39;49msort_values()[\u001b[39m0\u001b[39;49m]\u001b[39m.\u001b[39;49myear\n\u001b[1;32m    145\u001b[0m \u001b[39mif\u001b[39;00m how \u001b[39mis\u001b[39;00m \u001b[39mNone\u001b[39;00m:\n\u001b[1;32m    146\u001b[0m     \u001b[39m# Assume already sampled by day.\u001b[39;00m\n\u001b[1;32m    147\u001b[0m     by_day \u001b[39m=\u001b[39m data\n",
      "\u001b[0;31mAttributeError\u001b[0m: 'numpy.int64' object has no attribute 'year'"
     ]
    },
    {
     "data": {
      "text/plain": [
       "<Figure size 2000x1000 with 0 Axes>"
      ]
     },
     "metadata": {},
     "output_type": "display_data"
    }
   ],
   "source": [
    "plt.figure(figsize=(20,10))\n",
    "calmap.yearplot(df['per_day'], cmap='YlGn', fillcolor='lightgrey',daylabels='MTWTFSS',dayticks=[0, 2, 4, 6],\n",
    "               linewidth=2)\n"
   ]
  }
 ],
 "metadata": {
  "kernelspec": {
   "display_name": "base",
   "language": "python",
   "name": "python3"
  },
  "language_info": {
   "codemirror_mode": {
    "name": "ipython",
    "version": 3
   },
   "file_extension": ".py",
   "mimetype": "text/x-python",
   "name": "python",
   "nbconvert_exporter": "python",
   "pygments_lexer": "ipython3",
   "version": "3.11.8"
  },
  "orig_nbformat": 4
 },
 "nbformat": 4,
 "nbformat_minor": 2
}
